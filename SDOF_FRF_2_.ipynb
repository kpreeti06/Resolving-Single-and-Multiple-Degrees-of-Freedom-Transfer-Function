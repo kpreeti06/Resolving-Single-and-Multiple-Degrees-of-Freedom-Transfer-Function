{
  "nbformat": 4,
  "nbformat_minor": 0,
  "metadata": {
    "colab": {
      "provenance": []
    },
    "kernelspec": {
      "name": "python3",
      "display_name": "Python 3"
    },
    "language_info": {
      "name": "python"
    }
  },
  "cells": [
    {
      "cell_type": "markdown",
      "source": [
        "## Importing libraries"
      ],
      "metadata": {
        "id": "uO4BL4jvxjce"
      }
    },
    {
      "cell_type": "code",
      "source": [
        "import numpy as np\n",
        "import pandas as pd\n",
        "import matplotlib.pyplot as plt\n",
        "%matplotlib inline\n",
        "import warnings\n",
        "warnings.filterwarnings(\"ignore\")"
      ],
      "metadata": {
        "id": "FlamZEAlzoBX"
      },
      "execution_count": 1,
      "outputs": []
    },
    {
      "cell_type": "markdown",
      "source": [
        "Reading dataset"
      ],
      "metadata": {
        "id": "RE4NzcPCxptg"
      }
    },
    {
      "cell_type": "code",
      "source": [
        "sdof = pd.read_excel('data_FRF_SDOF_revised.xlsx')"
      ],
      "metadata": {
        "id": "qqmejy17z8e7"
      },
      "execution_count": 2,
      "outputs": []
    },
    {
      "cell_type": "code",
      "source": [
        "sdof.head()"
      ],
      "metadata": {
        "colab": {
          "base_uri": "https://localhost:8080/",
          "height": 206
        },
        "id": "294hlFfsupNT",
        "outputId": "6b0a0210-e9b0-4adf-93e4-134ac759f5fe"
      },
      "execution_count": null,
      "outputs": [
        {
          "output_type": "execute_result",
          "data": {
            "text/plain": [
              "   Freq                                           FRF     Magnitude  \\\n",
              "0     1  4.00000017758907e-08 - 4.21940965783041e-13i  4.000000e-08   \n",
              "1    21  4.00007831830571e-08 - 8.86110691174062e-12i  4.000078e-08   \n",
              "2    41  4.00029854943782e-08 - 1.73021637818988e-11i  4.000299e-08   \n",
              "3    61  4.00066091780886e-08 - 2.57469134732976e-11i  4.000662e-08   \n",
              "4    81  4.00116550047895e-08 - 3.41971598520863e-11i  4.001167e-08   \n",
              "\n",
              "      Real Part     Imaganary  \n",
              "0  4.000000e-08 -4.219410e-13  \n",
              "1  4.000078e-08 -8.861107e-12  \n",
              "2  4.000299e-08 -1.730216e-11  \n",
              "3  4.000661e-08 -2.574691e-11  \n",
              "4  4.001166e-08 -3.419716e-11  "
            ],
            "text/html": [
              "\n",
              "\n",
              "  <div id=\"df-9c21809c-b735-47d1-ae21-e0466ffc8958\">\n",
              "    <div class=\"colab-df-container\">\n",
              "      <div>\n",
              "<style scoped>\n",
              "    .dataframe tbody tr th:only-of-type {\n",
              "        vertical-align: middle;\n",
              "    }\n",
              "\n",
              "    .dataframe tbody tr th {\n",
              "        vertical-align: top;\n",
              "    }\n",
              "\n",
              "    .dataframe thead th {\n",
              "        text-align: right;\n",
              "    }\n",
              "</style>\n",
              "<table border=\"1\" class=\"dataframe\">\n",
              "  <thead>\n",
              "    <tr style=\"text-align: right;\">\n",
              "      <th></th>\n",
              "      <th>Freq</th>\n",
              "      <th>FRF</th>\n",
              "      <th>Magnitude</th>\n",
              "      <th>Real Part</th>\n",
              "      <th>Imaganary</th>\n",
              "    </tr>\n",
              "  </thead>\n",
              "  <tbody>\n",
              "    <tr>\n",
              "      <th>0</th>\n",
              "      <td>1</td>\n",
              "      <td>4.00000017758907e-08 - 4.21940965783041e-13i</td>\n",
              "      <td>4.000000e-08</td>\n",
              "      <td>4.000000e-08</td>\n",
              "      <td>-4.219410e-13</td>\n",
              "    </tr>\n",
              "    <tr>\n",
              "      <th>1</th>\n",
              "      <td>21</td>\n",
              "      <td>4.00007831830571e-08 - 8.86110691174062e-12i</td>\n",
              "      <td>4.000078e-08</td>\n",
              "      <td>4.000078e-08</td>\n",
              "      <td>-8.861107e-12</td>\n",
              "    </tr>\n",
              "    <tr>\n",
              "      <th>2</th>\n",
              "      <td>41</td>\n",
              "      <td>4.00029854943782e-08 - 1.73021637818988e-11i</td>\n",
              "      <td>4.000299e-08</td>\n",
              "      <td>4.000299e-08</td>\n",
              "      <td>-1.730216e-11</td>\n",
              "    </tr>\n",
              "    <tr>\n",
              "      <th>3</th>\n",
              "      <td>61</td>\n",
              "      <td>4.00066091780886e-08 - 2.57469134732976e-11i</td>\n",
              "      <td>4.000662e-08</td>\n",
              "      <td>4.000661e-08</td>\n",
              "      <td>-2.574691e-11</td>\n",
              "    </tr>\n",
              "    <tr>\n",
              "      <th>4</th>\n",
              "      <td>81</td>\n",
              "      <td>4.00116550047895e-08 - 3.41971598520863e-11i</td>\n",
              "      <td>4.001167e-08</td>\n",
              "      <td>4.001166e-08</td>\n",
              "      <td>-3.419716e-11</td>\n",
              "    </tr>\n",
              "  </tbody>\n",
              "</table>\n",
              "</div>\n",
              "      <button class=\"colab-df-convert\" onclick=\"convertToInteractive('df-9c21809c-b735-47d1-ae21-e0466ffc8958')\"\n",
              "              title=\"Convert this dataframe to an interactive table.\"\n",
              "              style=\"display:none;\">\n",
              "\n",
              "  <svg xmlns=\"http://www.w3.org/2000/svg\" height=\"24px\"viewBox=\"0 0 24 24\"\n",
              "       width=\"24px\">\n",
              "    <path d=\"M0 0h24v24H0V0z\" fill=\"none\"/>\n",
              "    <path d=\"M18.56 5.44l.94 2.06.94-2.06 2.06-.94-2.06-.94-.94-2.06-.94 2.06-2.06.94zm-11 1L8.5 8.5l.94-2.06 2.06-.94-2.06-.94L8.5 2.5l-.94 2.06-2.06.94zm10 10l.94 2.06.94-2.06 2.06-.94-2.06-.94-.94-2.06-.94 2.06-2.06.94z\"/><path d=\"M17.41 7.96l-1.37-1.37c-.4-.4-.92-.59-1.43-.59-.52 0-1.04.2-1.43.59L10.3 9.45l-7.72 7.72c-.78.78-.78 2.05 0 2.83L4 21.41c.39.39.9.59 1.41.59.51 0 1.02-.2 1.41-.59l7.78-7.78 2.81-2.81c.8-.78.8-2.07 0-2.86zM5.41 20L4 18.59l7.72-7.72 1.47 1.35L5.41 20z\"/>\n",
              "  </svg>\n",
              "      </button>\n",
              "\n",
              "\n",
              "\n",
              "    <div id=\"df-bc17108b-8cfa-4256-8ab1-94c4f2efbc97\">\n",
              "      <button class=\"colab-df-quickchart\" onclick=\"quickchart('df-bc17108b-8cfa-4256-8ab1-94c4f2efbc97')\"\n",
              "              title=\"Suggest charts.\"\n",
              "              style=\"display:none;\">\n",
              "\n",
              "<svg xmlns=\"http://www.w3.org/2000/svg\" height=\"24px\"viewBox=\"0 0 24 24\"\n",
              "     width=\"24px\">\n",
              "    <g>\n",
              "        <path d=\"M19 3H5c-1.1 0-2 .9-2 2v14c0 1.1.9 2 2 2h14c1.1 0 2-.9 2-2V5c0-1.1-.9-2-2-2zM9 17H7v-7h2v7zm4 0h-2V7h2v10zm4 0h-2v-4h2v4z\"/>\n",
              "    </g>\n",
              "</svg>\n",
              "      </button>\n",
              "    </div>\n",
              "\n",
              "<style>\n",
              "  .colab-df-quickchart {\n",
              "    background-color: #E8F0FE;\n",
              "    border: none;\n",
              "    border-radius: 50%;\n",
              "    cursor: pointer;\n",
              "    display: none;\n",
              "    fill: #1967D2;\n",
              "    height: 32px;\n",
              "    padding: 0 0 0 0;\n",
              "    width: 32px;\n",
              "  }\n",
              "\n",
              "  .colab-df-quickchart:hover {\n",
              "    background-color: #E2EBFA;\n",
              "    box-shadow: 0px 1px 2px rgba(60, 64, 67, 0.3), 0px 1px 3px 1px rgba(60, 64, 67, 0.15);\n",
              "    fill: #174EA6;\n",
              "  }\n",
              "\n",
              "  [theme=dark] .colab-df-quickchart {\n",
              "    background-color: #3B4455;\n",
              "    fill: #D2E3FC;\n",
              "  }\n",
              "\n",
              "  [theme=dark] .colab-df-quickchart:hover {\n",
              "    background-color: #434B5C;\n",
              "    box-shadow: 0px 1px 3px 1px rgba(0, 0, 0, 0.15);\n",
              "    filter: drop-shadow(0px 1px 2px rgba(0, 0, 0, 0.3));\n",
              "    fill: #FFFFFF;\n",
              "  }\n",
              "</style>\n",
              "\n",
              "    <script>\n",
              "      async function quickchart(key) {\n",
              "        const containerElement = document.querySelector('#' + key);\n",
              "        const charts = await google.colab.kernel.invokeFunction(\n",
              "            'suggestCharts', [key], {});\n",
              "      }\n",
              "    </script>\n",
              "\n",
              "      <script>\n",
              "\n",
              "function displayQuickchartButton(domScope) {\n",
              "  let quickchartButtonEl =\n",
              "    domScope.querySelector('#df-bc17108b-8cfa-4256-8ab1-94c4f2efbc97 button.colab-df-quickchart');\n",
              "  quickchartButtonEl.style.display =\n",
              "    google.colab.kernel.accessAllowed ? 'block' : 'none';\n",
              "}\n",
              "\n",
              "        displayQuickchartButton(document);\n",
              "      </script>\n",
              "      <style>\n",
              "    .colab-df-container {\n",
              "      display:flex;\n",
              "      flex-wrap:wrap;\n",
              "      gap: 12px;\n",
              "    }\n",
              "\n",
              "    .colab-df-convert {\n",
              "      background-color: #E8F0FE;\n",
              "      border: none;\n",
              "      border-radius: 50%;\n",
              "      cursor: pointer;\n",
              "      display: none;\n",
              "      fill: #1967D2;\n",
              "      height: 32px;\n",
              "      padding: 0 0 0 0;\n",
              "      width: 32px;\n",
              "    }\n",
              "\n",
              "    .colab-df-convert:hover {\n",
              "      background-color: #E2EBFA;\n",
              "      box-shadow: 0px 1px 2px rgba(60, 64, 67, 0.3), 0px 1px 3px 1px rgba(60, 64, 67, 0.15);\n",
              "      fill: #174EA6;\n",
              "    }\n",
              "\n",
              "    [theme=dark] .colab-df-convert {\n",
              "      background-color: #3B4455;\n",
              "      fill: #D2E3FC;\n",
              "    }\n",
              "\n",
              "    [theme=dark] .colab-df-convert:hover {\n",
              "      background-color: #434B5C;\n",
              "      box-shadow: 0px 1px 3px 1px rgba(0, 0, 0, 0.15);\n",
              "      filter: drop-shadow(0px 1px 2px rgba(0, 0, 0, 0.3));\n",
              "      fill: #FFFFFF;\n",
              "    }\n",
              "  </style>\n",
              "\n",
              "      <script>\n",
              "        const buttonEl =\n",
              "          document.querySelector('#df-9c21809c-b735-47d1-ae21-e0466ffc8958 button.colab-df-convert');\n",
              "        buttonEl.style.display =\n",
              "          google.colab.kernel.accessAllowed ? 'block' : 'none';\n",
              "\n",
              "        async function convertToInteractive(key) {\n",
              "          const element = document.querySelector('#df-9c21809c-b735-47d1-ae21-e0466ffc8958');\n",
              "          const dataTable =\n",
              "            await google.colab.kernel.invokeFunction('convertToInteractive',\n",
              "                                                     [key], {});\n",
              "          if (!dataTable) return;\n",
              "\n",
              "          const docLinkHtml = 'Like what you see? Visit the ' +\n",
              "            '<a target=\"_blank\" href=https://colab.research.google.com/notebooks/data_table.ipynb>data table notebook</a>'\n",
              "            + ' to learn more about interactive tables.';\n",
              "          element.innerHTML = '';\n",
              "          dataTable['output_type'] = 'display_data';\n",
              "          await google.colab.output.renderOutput(dataTable, element);\n",
              "          const docLink = document.createElement('div');\n",
              "          docLink.innerHTML = docLinkHtml;\n",
              "          element.appendChild(docLink);\n",
              "        }\n",
              "      </script>\n",
              "    </div>\n",
              "  </div>\n"
            ]
          },
          "metadata": {},
          "execution_count": 3
        }
      ]
    },
    {
      "cell_type": "code",
      "source": [
        "plt.plot(sdof['Freq'],sdof['Magnitude'])"
      ],
      "metadata": {
        "colab": {
          "base_uri": "https://localhost:8080/",
          "height": 462
        },
        "id": "t1A0MBTKPUaR",
        "outputId": "1c0c27ef-3317-4bbc-b78e-9219cb3cc048"
      },
      "execution_count": 3,
      "outputs": [
        {
          "output_type": "execute_result",
          "data": {
            "text/plain": [
              "[<matplotlib.lines.Line2D at 0x7e3989c31b70>]"
            ]
          },
          "metadata": {},
          "execution_count": 3
        },
        {
          "output_type": "display_data",
          "data": {
            "text/plain": [
              "<Figure size 640x480 with 1 Axes>"
            ],
            "image/png": "[encoded data removed]"
          },
          "metadata": {}
        }
      ]
    },
    {
      "cell_type": "markdown",
      "source": [
        "## Natural frequency\n"
      ],
      "metadata": {
        "id": "Yk_tjV6XxuMd"
      }
    },
    {
      "cell_type": "code",
      "source": [
        "x=sdof['Freq']\n",
        "y=sdof['Magnitude']\n",
        "from scipy.signal import find_peaks\n",
        "peaks, _ = find_peaks(y)\n",
        "peaks_x = np.array(x)[peaks]\n",
        "peaks_y = np.array(y)[peaks]\n",
        "for x_peak, y_peak in zip(peaks_x, peaks_y):\n",
        "    print(\"Peak at (Freq, FRF):\", x_peak, \",\", y_peak)"
      ],
      "metadata": {
        "id": "k3ZUk-rU0E8V",
        "colab": {
          "base_uri": "https://localhost:8080/"
        },
        "outputId": "b538f801-5531-4ef3-bc81-b6e504c306d7"
      },
      "execution_count": 4,
      "outputs": [
        {
          "output_type": "stream",
          "name": "stdout",
          "text": [
            "Peak at (Freq, FRF): 4741 , 7.99802787299926e-07\n"
          ]
        }
      ]
    },
    {
      "cell_type": "code",
      "source": [
        "data=sdof['Real Part']\n",
        "mean = np.mean(data)\n",
        "std = np.std(data)\n",
        "print('mean of the dataset is', mean)\n",
        "print('std. deviation is', std)"
      ],
      "metadata": {
        "colab": {
          "base_uri": "https://localhost:8080/"
        },
        "id": "JbxguJMiQH3z",
        "outputId": "b61155e7-01bd-4ece-ebea-a0db93287e33"
      },
      "execution_count": 5,
      "outputs": [
        {
          "output_type": "stream",
          "name": "stdout",
          "text": [
            "mean of the dataset is 2.6044960490895863e-08\n",
            "std. deviation is 1.3053810268299305e-07\n"
          ]
        }
      ]
    },
    {
      "cell_type": "code",
      "source": [
        "threshold = 3\n",
        "outlier = []\n",
        "for i in data:\n",
        "    z = (i-mean)/std\n",
        "    if z > threshold:\n",
        "        outlier.append(i)\n",
        "print('outlier in dataset is', outlier)"
      ],
      "metadata": {
        "colab": {
          "base_uri": "https://localhost:8080/"
        },
        "id": "4VjO_jD7QS02",
        "outputId": "614bb78d-869a-431a-eefa-a018621bc306"
      },
      "execution_count": 6,
      "outputs": [
        {
          "output_type": "stream",
          "name": "stdout",
          "text": [
            "outlier in dataset is []\n"
          ]
        }
      ]
    },
    {
      "cell_type": "markdown",
      "source": [
        "Train_test_split\n"
      ],
      "metadata": {
        "id": "35h1ow6Ox0DM"
      }
    },
    {
      "cell_type": "code",
      "source": [
        "X=sdof['Freq']\n",
        "y_real=sdof['Real Part']\n",
        "y_imag=sdof['Imaganary']\n",
        "from sklearn.model_selection import train_test_split\n",
        "X_train, X_test, y_real_train, y_real_test, y_imag_train, y_imag_test = train_test_split(X, y_real, y_imag, test_size=0.2, random_state=42)\n"
      ],
      "metadata": {
        "id": "FxaroHf80IFj"
      },
      "execution_count": 7,
      "outputs": []
    },
    {
      "cell_type": "code",
      "source": [
        "X_train = np.array(X_train).reshape(-1, 1)\n",
        "y_real_train = np.array(y_real_train).reshape(-1, 1)\n",
        "y_real_test = np.array(y_real_test).reshape(-1, 1)\n",
        "X_test = np.array(X_test).reshape(-1, 1)\n",
        "y_imag_test = np.array(y_imag_test).reshape(-1, 1)\n",
        "y_imag_train = np.array(y_imag_train).reshape(-1, 1)"
      ],
      "metadata": {
        "id": "5-ia7XW10K1W"
      },
      "execution_count": 8,
      "outputs": []
    },
    {
      "cell_type": "code",
      "source": [
        "from sklearn.preprocessing import StandardScaler\n",
        "scaler = StandardScaler()\n",
        "X_train_scaled = scaler.fit_transform(X_train)\n",
        "X_test_scaled = scaler.transform(X_test)"
      ],
      "metadata": {
        "id": "bS3GSmuczTFe"
      },
      "execution_count": 9,
      "outputs": []
    },
    {
      "cell_type": "code",
      "source": [
        "from sklearn.ensemble import RandomForestRegressor\n",
        "from sklearn.metrics import r2_score\n",
        "rf_real = RandomForestRegressor(n_estimators=100, random_state=42)\n",
        "rf_imag = RandomForestRegressor(n_estimators=100, random_state=42)\n",
        "rf_real.fit(X_train, y_real_train)\n",
        "rf_imag.fit(X_train, y_imag_train)\n",
        "\n",
        "# Step 5: Model Evaluation\n",
        "y_real_pred = rf_real.predict(X_test)\n",
        "y_imag_pred = rf_imag.predict(X_test)\n",
        "\n",
        "score_real = r2_score(y_real_test, y_real_pred)\n",
        "score_imag = r2_score(y_imag_test, y_imag_pred)\n",
        "print(\"R-squared score (Real):\", score_real)\n",
        "print(\"R-squared score (Imaginary):\", score_imag)"
      ],
      "metadata": {
        "colab": {
          "base_uri": "https://localhost:8080/"
        },
        "id": "3IsUK48Y1rH4",
        "outputId": "166bf789-99b5-44ae-a73e-a66cc66ec71b"
      },
      "execution_count": 10,
      "outputs": [
        {
          "output_type": "stream",
          "name": "stdout",
          "text": [
            "R-squared score (Real): 0.9844367385682484\n",
            "R-squared score (Imaginary): 0.9940880126452468\n"
          ]
        }
      ]
    },
    {
      "cell_type": "code",
      "source": [
        "# from scipy.signal import find_peaks\n",
        "# peaks, _ = find_peaks(y)\n",
        "# peaks_x = np.array(x)[peaks]\n",
        "# peaks_y = np.array(y)[peaks]\n",
        "# for x_peak, y_peak in zip(peaks_x, peaks_y):\n",
        "#     print(\"Peak at (Freq, FRF):\", x_peak, \",\", y_peak)"
      ],
      "metadata": {
        "id": "5Peq7O0b2mVC"
      },
      "execution_count": null,
      "outputs": []
    },
    {
      "cell_type": "code",
      "source": [
        "plt.plot(sdof['Freq'],sdof['Real Part'])"
      ],
      "metadata": {
        "colab": {
          "base_uri": "https://localhost:8080/",
          "height": 462
        },
        "id": "7nnvCsmJ3oTV",
        "outputId": "e99e9541-fb3f-4899-80ab-b72df1588184"
      },
      "execution_count": 11,
      "outputs": [
        {
          "output_type": "execute_result",
          "data": {
            "text/plain": [
              "[<matplotlib.lines.Line2D at 0x7e397f303100>]"
            ]
          },
          "metadata": {},
          "execution_count": 11
        },
        {
          "output_type": "display_data",
          "data": {
            "text/plain": [
              "<Figure size 640x480 with 1 Axes>"
            ],
            "image/png": "[encoded data removed]"
          },
          "metadata": {}
        }
      ]
    },
    {
      "cell_type": "markdown",
      "source": [
        "# Minimum and maximum value\n",
        "\n",
        "\n"
      ],
      "metadata": {
        "id": "ZPnNqsBlx6Qi"
      }
    },
    {
      "cell_type": "code",
      "source": [
        "# Find the index of the minimum value (minima)\n",
        "min_index = np.argmin(y_real)\n",
        "min_x = X[min_index]\n",
        "min_y = y_real[min_index]\n",
        "\n",
        "# Find the index of the maximum value (maxima)\n",
        "max_index = np.argmax(y_real)\n",
        "max_x = X[max_index]\n",
        "max_y = y_real[max_index]\n",
        "\n",
        "print(\"Minima at (Freq, FRF_real):\", min_x, \",\", min_y)\n",
        "print(\"Maxima at (Freq, FRF_real):\", max_x, \",\", max_y)\n"
      ],
      "metadata": {
        "colab": {
          "base_uri": "https://localhost:8080/"
        },
        "id": "GFwsv2dK4eCn",
        "outputId": "e43d611e-219a-4321-b891-e012f0154d93"
      },
      "execution_count": 12,
      "outputs": [
        {
          "output_type": "stream",
          "name": "stdout",
          "text": [
            "Minima at (Freq, FRF_real): 4861 , -3.90029592633421e-07\n",
            "Maxima at (Freq, FRF_real): 4621 , 4.10241489079422e-07\n"
          ]
        }
      ]
    },
    {
      "cell_type": "markdown",
      "source": [
        "## Damping ratio(mathematical)"
      ],
      "metadata": {
        "id": "L1p0xFT-x-1I"
      }
    },
    {
      "cell_type": "code",
      "source": [
        "# finding damping ratio using real part of frf\n",
        "Damping_ratio=(min_x-max_x)/(2*x_peak)\n",
        "Damping_ratio"
      ],
      "metadata": {
        "colab": {
          "base_uri": "https://localhost:8080/"
        },
        "id": "R4hnqFDX6Gkz",
        "outputId": "df483cc3-3547-4609-ff52-fd7599446901"
      },
      "execution_count": 13,
      "outputs": [
        {
          "output_type": "execute_result",
          "data": {
            "text/plain": [
              "0.025311115798354777"
            ]
          },
          "metadata": {},
          "execution_count": 13
        }
      ]
    },
    {
      "cell_type": "markdown",
      "source": [
        "## Half power method"
      ],
      "metadata": {
        "id": "kxZctXuXy2XW"
      }
    },
    {
      "cell_type": "code",
      "source": [
        "# calulation of damping ratio mathematically using Half-power method\n",
        "magnitude=sdof['Magnitude']\n",
        "frequency=sdof['Freq']\n",
        "resonant_index = np.argmax(magnitude)\n",
        "# Find the half-power points on either side of the resonant peak\n",
        "half_power = y_peak / np.sqrt(2)\n",
        "left_index = np.argmin(np.abs(magnitude[:resonant_index] - half_power))\n",
        "right_index = np.argmin(np.abs(magnitude[resonant_index:] - half_power)) + resonant_index\n",
        "\n",
        "# Extract the frequencies of the half-power points\n",
        "f_left = frequency[left_index]\n",
        "f_right = frequency[right_index]\n",
        "\n",
        "# Calculate the damping ratio\n",
        "damping_ratio = (f_right - f_left) / (2 * x_peak)\n",
        "print(\"Damping ratio:\", damping_ratio)"
      ],
      "metadata": {
        "colab": {
          "base_uri": "https://localhost:8080/"
        },
        "id": "JbwDU0nJ6lbY",
        "outputId": "0cbf5be3-b145-48ff-beab-89b0349f81bf"
      },
      "execution_count": 14,
      "outputs": [
        {
          "output_type": "stream",
          "name": "stdout",
          "text": [
            "Damping ratio: 0.025311115798354777\n"
          ]
        }
      ]
    },
    {
      "cell_type": "code",
      "source": [
        "plt.plot(sdof['Freq'],sdof['Imaganary'])"
      ],
      "metadata": {
        "colab": {
          "base_uri": "https://localhost:8080/",
          "height": 462
        },
        "id": "7-jMjm253--N",
        "outputId": "5b5b9b6e-ed8b-4a73-d4e2-c496f41c3663"
      },
      "execution_count": 16,
      "outputs": [
        {
          "output_type": "execute_result",
          "data": {
            "text/plain": [
              "[<matplotlib.lines.Line2D at 0x7e397ef5a7d0>]"
            ]
          },
          "metadata": {},
          "execution_count": 16
        },
        {
          "output_type": "display_data",
          "data": {
            "text/plain": [
              "<Figure size 640x480 with 1 Axes>"
            ],
            "image/png": "[encoded data removed]"
          },
          "metadata": {}
        }
      ]
    },
    {
      "cell_type": "code",
      "source": [
        "min_index = np.argmin(y_imag)\n",
        "min_x1 = X[min_index]\n",
        "min_y1 = y_imag[min_index]\n",
        "print(\"Minima at (Freq, FRF_imag):\", min_x1, \",\", min_y1)"
      ],
      "metadata": {
        "colab": {
          "base_uri": "https://localhost:8080/"
        },
        "id": "jlno1VoN4DPV",
        "outputId": "b8d76524-5a46-4fab-e2cf-a6c871fea3b4"
      },
      "execution_count": 17,
      "outputs": [
        {
          "output_type": "stream",
          "name": "stdout",
          "text": [
            "Minima at (Freq, FRF_imag): 4741 , -7.99774316385367e-07\n"
          ]
        }
      ]
    },
    {
      "cell_type": "markdown",
      "source": [
        "## Spring constant(mathematical)"
      ],
      "metadata": {
        "id": "dDqLbizcyC27"
      }
    },
    {
      "cell_type": "code",
      "source": [
        "spring_constant= -1/(2*min_y1*Damping_ratio)\n",
        "spring_constant"
      ],
      "metadata": {
        "colab": {
          "base_uri": "https://localhost:8080/"
        },
        "id": "rEfAyHjq9FLc",
        "outputId": "e13d2ee1-2efd-4b04-b117-e9e7d1feefe7"
      },
      "execution_count": 18,
      "outputs": [
        {
          "output_type": "execute_result",
          "data": {
            "text/plain": [
              "24699676.223596342"
            ]
          },
          "metadata": {},
          "execution_count": 18
        }
      ]
    },
    {
      "cell_type": "code",
      "source": [
        "# Frf=((x_peak)**2/spring_constant)/(((x_peak**2)-(sdof['Freq'][230])**2)+1j*2*Damping_ratio*x_peak*sdof['Freq'][230])\n",
        "# Frf"
      ],
      "metadata": {
        "id": "dDI0xeul_LTh"
      },
      "execution_count": null,
      "outputs": []
    },
    {
      "cell_type": "code",
      "source": [
        "# mathematically I AM GETTING ALL VALUES CORRECT\n",
        "#  BUT for mathematical we are assuming ideal case which in not in experimental so\n",
        "# Now need to find experimentally"
      ],
      "metadata": {
        "id": "Rv7nVQHlDMf9"
      },
      "execution_count": null,
      "outputs": []
    },
    {
      "cell_type": "markdown",
      "source": [
        "## Curve fitting"
      ],
      "metadata": {
        "id": "1lS2oAn2yJd0"
      }
    },
    {
      "cell_type": "code",
      "source": [
        "import numpy as np\n",
        "import matplotlib.pyplot as plt\n",
        "from scipy.optimize import curve_fit\n",
        "\n",
        "# Example FRF data (frequency and magnitude)\n",
        "frequency = sdof['Freq']  # Frequency values (Hz)\n",
        "frf_magnitude = sdof['Real Part']  # FRF magnitude\n",
        "\n",
        "# Custom model function\n",
        "def custom_model(f, w_n0, zeta, k):\n",
        "    # w_n = w_n0 / np.sqrt(1 - zeta**2)\n",
        "    return (w_n0**2/k) / ((w_n0**2 - f**2) + (1j*2 * zeta * w_n0 * f))\n",
        "\n",
        "# Perform curve fitting with bounds and improved initial guess\n",
        "p0 = [x_peak, 0.025, 24699676]  # Initial guess for parameters [w_n0, zeta, k]\n",
        "lower_bounds = [0, 0, 0]  # Lower bounds for the parameters\n",
        "upper_bounds = [np.inf, 1, np.inf]  # Upper bounds for the parameters\n",
        "bounds = (lower_bounds, upper_bounds)\n",
        "\n",
        "params, params_covariance = curve_fit(custom_model, frequency, frf_magnitude, p0=p0, bounds=bounds)\n",
        "\n",
        "# Extract fitted parameters\n",
        "w_n0_fit, zeta_fit, k_fit = params\n",
        "\n",
        "# Plot the experimental data and the fitted curve\n",
        "plt.plot(frequency, frf_magnitude, label='Experimental Data')\n",
        "plt.plot(frequency, custom_model(frequency, *params), 'r-', label='Fitted Curve')\n",
        "plt.xlabel('Frequency (Hz)')\n",
        "plt.ylabel('FRF Magnitude')\n",
        "plt.legend()\n",
        "plt.grid()\n",
        "plt.show()\n",
        "\n",
        "# Print the fitted parameters and calculated constants\n",
        "print(\"Fitted Parameters:\")\n",
        "print(\"Natural Frequency (w_n0): {:.2f} rad/s\".format(w_n0_fit))\n",
        "print(\"Damping Ratio (ζ): {:.4f}\".format(zeta_fit))\n",
        "print(\"Spring Constant (k): {:.2f} N/m\".format(k_fit))\n"
      ],
      "metadata": {
        "id": "Wx5K3BoWof_R",
        "colab": {
          "base_uri": "https://localhost:8080/",
          "height": 534
        },
        "outputId": "ae40d486-8c91-4ce0-a6b1-813b53d017c4"
      },
      "execution_count": 19,
      "outputs": [
        {
          "output_type": "display_data",
          "data": {
            "text/plain": [
              "<Figure size 640x480 with 1 Axes>"
            ],
            "image/png": "[encoded data removed]"
          },
          "metadata": {}
        },
        {
          "output_type": "stream",
          "name": "stdout",
          "text": [
            "Fitted Parameters:\n",
            "Natural Frequency (w_n0): 4741.00 rad/s\n",
            "Damping Ratio (ζ): 0.0250\n",
            "Spring Constant (k): 24699676.00 N/m\n"
          ]
        }
      ]
    },
    {
      "cell_type": "markdown",
      "source": [
        "## Damping ratio and spring constant using multivariate netwon method"
      ],
      "metadata": {
        "id": "SI0pc8H1yNUf"
      }
    },
    {
      "cell_type": "code",
      "source": [
        "import numpy as np\n",
        "from scipy.optimize import minimize\n",
        "\n",
        "# Given natural frequency and complex FRF data\n",
        "natural_frequency = sdof['Freq']  # Replace with the actual natural frequency\n",
        "complex_FRF = sdof['Real Part']+1j*sdof['Imaganary']       # Replace with the actual complex FRF data\n",
        "peak_frequency=x_peak\n",
        "# Define your FRF equation\n",
        "def frf_equation(parameters, peak_frequency):\n",
        "    zeta, k_x = parameters\n",
        "    omega = 2 * np.pi * natural_frequency\n",
        "    omega_n = 2 * np.pi * peak_frequency\n",
        "\n",
        "    numerator = (omega_n ** 2 / k_x) / (omega_n ** 2 - omega ** 2 + 1j * 2 * zeta * omega_n * omega)\n",
        "    return numerator\n",
        "\n",
        "# Define the function that calculates the difference between observed and expected FRF\n",
        "def function_to_minimize(parameters, peak_frequency, complex_FRF):\n",
        "    expected_FRF = frf_equation(parameters, peak_frequency)\n",
        "    residuals = np.abs(expected_FRF - complex_FRF)\n",
        "    return np.sum(residuals ** 2)  # Objective to minimize\n",
        "\n",
        "# Choose initial guesses for damping ratio and spring constant\n",
        "initial_guess = [0.1, 1000]  # Replace with your initial guesses\n",
        "\n",
        "# Use a numerical optimization method (e.g., minimize) to estimate parameters\n",
        "result = minimize(\n",
        "    function_to_minimize,\n",
        "    initial_guess,\n",
        "    args=(peak_frequency, complex_FRF),\n",
        "    method='Nelder-Mead'  # Choose an appropriate optimization method\n",
        ")\n",
        "\n",
        "# The result will contain the estimated parameters [zeta, k_x]\n",
        "estimated_parameters = result.x\n",
        "estimated_damping_ratio = estimated_parameters[0]\n",
        "estimated_spring_constant = estimated_parameters[1]\n",
        "\n",
        "print(\"Estimated Damping Ratio:\", estimated_damping_ratio)\n",
        "print(\"Estimated Spring Constant:\", estimated_spring_constant)\n"
      ],
      "metadata": {
        "colab": {
          "base_uri": "https://localhost:8080/"
        },
        "id": "C0avf2s7pBP8",
        "outputId": "c4ac0f8e-a468-477e-b716-551d03e75279"
      },
      "execution_count": 21,
      "outputs": [
        {
          "output_type": "stream",
          "name": "stdout",
          "text": [
            "Estimated Damping Ratio: 0.025007384118313734\n",
            "Estimated Spring Constant: 24999225.46147909\n"
          ]
        }
      ]
    },
    {
      "cell_type": "code",
      "source": [
        "absolute_error_damping = abs(estimated_damping_ratio -damping_ratio)\n",
        "print(\"Absolute Error damping:\", absolute_error_damping)"
      ],
      "metadata": {
        "colab": {
          "base_uri": "https://localhost:8080/"
        },
        "id": "L4bgtQF9px4k",
        "outputId": "dfa4d6ef-a0b0-4459-8f60-641a0cd612b1"
      },
      "execution_count": 22,
      "outputs": [
        {
          "output_type": "stream",
          "name": "stdout",
          "text": [
            "Absolute Error: 0.00030373168004104237\n"
          ]
        }
      ]
    }
  ]
}